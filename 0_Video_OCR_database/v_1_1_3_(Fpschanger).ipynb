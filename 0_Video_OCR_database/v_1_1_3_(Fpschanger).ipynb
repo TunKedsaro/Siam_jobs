{
 "cells": [
  {
   "cell_type": "code",
   "execution_count": 1,
   "metadata": {},
   "outputs": [],
   "source": [
    "import cv2\n",
    "import os\n",
    "import matplotlib.pyplot as plt\n",
    "from time import time,sleep"
   ]
  },
  {
   "cell_type": "code",
   "execution_count": 2,
   "metadata": {},
   "outputs": [],
   "source": [
    "input_video_path = \"C://Users//Acer//Desktop//siam project//00000003034000000.mp4\"\n",
    "output_dir = \"output_frames\"\n",
    "os.makedirs(output_dir, exist_ok=True)\n",
    "cap = cv2.VideoCapture(input_video_path)"
   ]
  },
  {
   "cell_type": "code",
   "execution_count": 3,
   "metadata": {},
   "outputs": [
    {
     "name": "stdout",
     "output_type": "stream",
     "text": [
      "Frame rate: 24.0\n",
      "Total frames: 150536\n",
      "Video duration: 6272.00 seconds or 130.66666666666666 min\n",
      "Frames to capture every 1 minutes: 1440.0 frame\n",
      "We're going to capture every 1440.0 frames, which means every 1 minutes we save 1 image.\n",
      "We're gonno got 104.0\n"
     ]
    }
   ],
   "source": [
    "# Get framerate\n",
    "Fps = cap.get(cv2.CAP_PROP_FPS)               # Frame/sec     25 frame/sec\n",
    "# All frame of video\n",
    "Afm = int(cap.get(cv2.CAP_PROP_FRAME_COUNT))       # video length 343 sec\n",
    "# length of video\n",
    "duration = Afm//Fps\n",
    "# print(f\"{duration} sec\")\n",
    "# Frame capture every x min\n",
    "# Cap_every_x_min = 0.5\n",
    "Cap_every_x_min = 1\n",
    "Fxmin = (Fps*60)*Cap_every_x_min\n",
    "\n",
    "\n",
    "print(f\"Frame rate: {Fps}\")\n",
    "print(f\"Total frames: {Afm}\")\n",
    "print(f\"Video duration: {duration:.2f} seconds or {duration/(Fps*2)} min\")\n",
    "print(f\"Frames to capture every {Cap_every_x_min} minutes: {Fxmin} frame\")\n",
    "print(f\"We're going to capture every {Fxmin} frames, which means every {Cap_every_x_min} minutes we save 1 image.\")\n",
    "print(f\"We're gonno got {Afm//Fxmin}\")"
   ]
  },
  {
   "cell_type": "markdown",
   "metadata": {},
   "source": [
    "<hr>"
   ]
  },
  {
   "cell_type": "code",
   "execution_count": 4,
   "metadata": {},
   "outputs": [
    {
     "name": "stdout",
     "output_type": "stream",
     "text": [
      "Frame rate: 24.0\n",
      "Total frames: 150536\n",
      "Video duration: 6272.00 seconds or 130.66666666666666 min\n",
      "Frames to capture every 1 minutes: 1440.0 frame\n",
      "We're going to capture every 1440.0 frames, which means every 1 minutes we save 1 image.\n",
      "We're gonno got 104.0\n"
     ]
    }
   ],
   "source": [
    "input_video_path = \"C://Users//Acer//Desktop//siam project//00000003034000000.mp4\"\n",
    "output_dir = \"output_frames\"\n",
    "os.makedirs(output_dir, exist_ok=True)\n",
    "cap = cv2.VideoCapture(input_video_path)\n",
    "\n",
    "# Get framerate\n",
    "Fps = cap.get(cv2.CAP_PROP_FPS)                  # Frame/sec     25 frame/sec\n",
    "# All frame of video\n",
    "Afm = int(cap.get(cv2.CAP_PROP_FRAME_COUNT))       # video length 343 sec\n",
    "# length of video\n",
    "duration = Afm//Fps\n",
    "# print(f\"{duration} sec\")\n",
    "# Frame capture every x min\n",
    "# Cap_every_x_min = 0.5\n",
    "Cap_every_x_min = 1\n",
    "Fxmin = (Fps*60)*Cap_every_x_min\n",
    "\n",
    "\n",
    "print(f\"Frame rate: {Fps}\")\n",
    "print(f\"Total frames: {Afm}\")\n",
    "print(f\"Video duration: {duration:.2f} seconds or {duration/(Fps*2)} min\")\n",
    "print(f\"Frames to capture every {Cap_every_x_min} minutes: {Fxmin} frame\")\n",
    "print(f\"We're going to capture every {Fxmin} frames, which means every {Cap_every_x_min} minutes we save 1 image.\")\n",
    "print(f\"We're gonno got {Afm//Fxmin}\")"
   ]
  },
  {
   "cell_type": "markdown",
   "metadata": {},
   "source": [
    "<hr>"
   ]
  },
  {
   "cell_type": "code",
   "execution_count": 5,
   "metadata": {},
   "outputs": [
    {
     "ename": "KeyboardInterrupt",
     "evalue": "",
     "output_type": "error",
     "traceback": [
      "\u001b[1;31m---------------------------------------------------------------------------\u001b[0m",
      "\u001b[1;31mKeyboardInterrupt\u001b[0m                         Traceback (most recent call last)",
      "Cell \u001b[1;32mIn[5], line 37\u001b[0m\n\u001b[0;32m     34\u001b[0m output_video_path \u001b[38;5;241m=\u001b[39m \u001b[38;5;124m'\u001b[39m\u001b[38;5;124moutput_video_30fps.mp4\u001b[39m\u001b[38;5;124m'\u001b[39m  \u001b[38;5;66;03m# Replace with your output video file path\u001b[39;00m\n\u001b[0;32m     35\u001b[0m new_fps \u001b[38;5;241m=\u001b[39m \u001b[38;5;241m30\u001b[39m  \u001b[38;5;66;03m# Desired frame rate\u001b[39;00m\n\u001b[1;32m---> 37\u001b[0m change_frame_rate(input_video_path, output_video_path, new_fps)\n",
      "Cell \u001b[1;32mIn[5], line 25\u001b[0m, in \u001b[0;36mchange_frame_rate\u001b[1;34m(input_video_path, output_video_path, new_fps)\u001b[0m\n\u001b[0;32m     23\u001b[0m     \u001b[38;5;28;01mif\u001b[39;00m \u001b[38;5;129;01mnot\u001b[39;00m ret:\n\u001b[0;32m     24\u001b[0m         \u001b[38;5;28;01mbreak\u001b[39;00m\n\u001b[1;32m---> 25\u001b[0m     out\u001b[38;5;241m.\u001b[39mwrite(frame)\n\u001b[0;32m     27\u001b[0m \u001b[38;5;66;03m# Release the VideoCapture and VideoWriter objects\u001b[39;00m\n\u001b[0;32m     28\u001b[0m cap\u001b[38;5;241m.\u001b[39mrelease()\n",
      "\u001b[1;31mKeyboardInterrupt\u001b[0m: "
     ]
    }
   ],
   "source": [
    "import cv2\n",
    "\n",
    "# Function to change the frame rate of a video\n",
    "def change_frame_rate(input_video_path, output_video_path, new_fps):\n",
    "    # Open the input video\n",
    "    cap = cv2.VideoCapture(input_video_path)\n",
    "    if not cap.isOpened():\n",
    "        print(\"Error: Could not open the input video.\")\n",
    "        return\n",
    "    \n",
    "    # Get the original frame width, height, and FPS\n",
    "    original_fps = int(cap.get(cv2.CAP_PROP_FPS))\n",
    "    frame_width = int(cap.get(cv2.CAP_PROP_FRAME_WIDTH))\n",
    "    frame_height = int(cap.get(cv2.CAP_PROP_FRAME_HEIGHT))\n",
    "    \n",
    "    # Define the codec and create the VideoWriter object\n",
    "    fourcc = cv2.VideoWriter_fourcc(*'mp4v')  # You can also use other codecs such as 'XVID'\n",
    "    out = cv2.VideoWriter(output_video_path, fourcc, new_fps, (frame_width, frame_height))\n",
    "    \n",
    "    # Read and write each frame\n",
    "    while cap.isOpened():\n",
    "        ret, frame = cap.read()\n",
    "        if not ret:\n",
    "            break\n",
    "        out.write(frame)\n",
    "    \n",
    "    # Release the VideoCapture and VideoWriter objects\n",
    "    cap.release()\n",
    "    out.release()\n",
    "    print(f\"Video frame rate changed from {original_fps} FPS to {new_fps} FPS and saved to {output_video_path}\")\n",
    "\n",
    "# Example usage\n",
    "input_video_path = \"C://Users//Acer//Desktop//siam project//00000003034000000.mp4\"  # Replace with your input video file path\n",
    "output_video_path = 'output_video_30fps.mp4'  # Replace with your output video file path\n",
    "new_fps = 30  # Desired frame rate\n",
    "\n",
    "change_frame_rate(input_video_path, output_video_path, new_fps)\n"
   ]
  }
 ],
 "metadata": {
  "kernelspec": {
   "display_name": "base",
   "language": "python",
   "name": "python3"
  },
  "language_info": {
   "codemirror_mode": {
    "name": "ipython",
    "version": 3
   },
   "file_extension": ".py",
   "mimetype": "text/x-python",
   "name": "python",
   "nbconvert_exporter": "python",
   "pygments_lexer": "ipython3",
   "version": "3.11.5"
  }
 },
 "nbformat": 4,
 "nbformat_minor": 2
}

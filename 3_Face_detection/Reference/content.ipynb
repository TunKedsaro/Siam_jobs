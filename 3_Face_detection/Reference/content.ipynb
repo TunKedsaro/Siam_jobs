{
 "cells": [
  {
   "cell_type": "markdown",
   "metadata": {},
   "source": [
    "<img src=\"img/01.jpg\">"
   ]
  },
  {
   "cell_type": "markdown",
   "metadata": {},
   "source": [
    "<li>Face detection is first step</li>"
   ]
  },
  {
   "cell_type": "markdown",
   "metadata": {},
   "source": [
    "<img src=\"img/02.jpg\">"
   ]
  },
  {
   "cell_type": "markdown",
   "metadata": {},
   "source": [
    "<li> ถ้าหากว่าเรามีภาพหน้าตรง เราจะเอาภาพหน้าตรงไปแปะกับ Model 3D แล้วมันก็จะสามารถ Rotate ได้</li>"
   ]
  },
  {
   "cell_type": "markdown",
   "metadata": {},
   "source": [
    "<img src=\"img/03.jpg\">"
   ]
  },
  {
   "cell_type": "markdown",
   "metadata": {},
   "source": [
    "<li>detection -> localization(rotate) -> frontalization</li>\n",
    "<li>one of these pixels are gonna have their\n",
    "own weights and vices so basically every\n",
    "location in your filter map is gonna\n",
    "learn a different set of filters so you\n",
    "are not doing parameter sharing anymore</li>\n",
    "<li>พอได้ SFC labels แล้วมันจะเป็นเหมือน vector และวิธีการเปรียบเทียบว่าใครเป็นใครก็คือ ดูว่า เวคเตอร์ทั้งสองมีความคล้ายกันขนาดไหนโดยการตั้งค่า ratio เอาไว้ <code>เราจะใช้การ dot product</code></li>"
   ]
  },
  {
   "cell_type": "markdown",
   "metadata": {},
   "source": [
    "<img src=\"img/04.jpg\">"
   ]
  },
  {
   "cell_type": "markdown",
   "metadata": {},
   "source": [
    "<img src=\"img/05.jpg\">"
   ]
  },
  {
   "cell_type": "markdown",
   "metadata": {},
   "source": [
    "<hr>"
   ]
  },
  {
   "cell_type": "markdown",
   "metadata": {},
   "source": [
    "<a href=\"https://www.youtube.com/watch?v=PZ28A_xTrvk&list=PLoEMreTa9CNnnBrqy4cJSZ3NX3rhvcJxi&index=2\"><h3>FaceNet | Lecture 39 (Part 2) | Applied Deep Learning (Supplementary)</h3></a>"
   ]
  },
  {
   "cell_type": "markdown",
   "metadata": {},
   "source": [
    "<img src=\"img/06.jpg\">"
   ]
  },
  {
   "cell_type": "markdown",
   "metadata": {},
   "source": [
    "<img src=\"img/07.jpg\">"
   ]
  },
  {
   "cell_type": "markdown",
   "metadata": {},
   "source": [
    "<li>Tripet loss : มันสวยในเชิง mathematic แต่ว่ามันมีปัญหากับตัวอย่าง ถ้าหากว่า Run ตัวนี้ไปสิ่งที่จะเกิดขึ้นก็คือมันจะไป Error กินทีหลัง</li>\n",
    "<li><code>Pain point ของมันก็คือมันจะต้องใช้ภาพจำนวนมาก</code></li>\n",
    "<li>It's gonna learn very slowly</li>"
   ]
  },
  {
   "cell_type": "markdown",
   "metadata": {},
   "source": [
    "<img src=\"img/08.jpg\">"
   ]
  },
  {
   "cell_type": "markdown",
   "metadata": {},
   "source": [
    "<li>เราจะใช้ L2 ในการตรวจวัดความห่าง</li>"
   ]
  },
  {
   "cell_type": "markdown",
   "metadata": {},
   "source": [
    "<img src=\"img/09.jpg\">"
   ]
  },
  {
   "cell_type": "markdown",
   "metadata": {},
   "source": [
    "<img src=\"img/10.jpg\">"
   ]
  },
  {
   "cell_type": "markdown",
   "metadata": {},
   "source": [
    "<img src=\"img/11.jpg\">"
   ]
  },
  {
   "cell_type": "markdown",
   "metadata": {},
   "source": [
    "<img src=\"img/12.jpg\">"
   ]
  },
  {
   "cell_type": "markdown",
   "metadata": {},
   "source": [
    "<img src=\"img/13.jpg\">"
   ]
  },
  {
   "cell_type": "markdown",
   "metadata": {},
   "source": [
    "<hr>"
   ]
  },
  {
   "cell_type": "markdown",
   "metadata": {},
   "source": [
    "<a href=\"https://youtu.be/wtY6nVapJUc?list=PLoEMreTa9CNnnBrqy4cJSZ3NX3rhvcJxi\"><h3>Deep Face Recognition (Continued) | Lecture 40 (Part 1) | Applied Deep Learning (Supplementary)</h3></a>"
   ]
  },
  {
   "cell_type": "markdown",
   "metadata": {},
   "source": [
    "<img src=\"img/14.jpg\">"
   ]
  },
  {
   "cell_type": "markdown",
   "metadata": {},
   "source": [
    "<img src=\"img/18.jpg\">\n",
    "<img src=\"img/19.jpg\">\n",
    "<img src=\"img/20.jpg\">"
   ]
  },
  {
   "cell_type": "markdown",
   "metadata": {},
   "source": [
    "<img src=\"img/15.jpg\">"
   ]
  },
  {
   "cell_type": "markdown",
   "metadata": {},
   "source": [
    "<li>LNet มันจะสามารถระบุตำแหน่งคร่าวๆ ของตัวหน้าคนได้ แต่ว่ามันไม่ได้ Perfect</li>\n",
    "<li>ดูจาก Headmap ก้พอจะเห็นว่ามันไม่ได้ สมบูรณ์</li>"
   ]
  },
  {
   "cell_type": "markdown",
   "metadata": {},
   "source": [
    "<img src=\"img/16.jpg\">"
   ]
  },
  {
   "cell_type": "markdown",
   "metadata": {},
   "source": [
    "<li>อันนี้หลังจากที่มีการทำ Fine tune แล้วจะเห็นว่ามันสามารถระบุหน้าได้แม่นขึ้น</li>\n",
    "<li>step ทั้งหมดมันเอาไว้สำหรับการ Crop หน้าคน</li>"
   ]
  },
  {
   "cell_type": "markdown",
   "metadata": {},
   "source": [
    "<img src=\"img/17.jpg\">"
   ]
  },
  {
   "cell_type": "markdown",
   "metadata": {},
   "source": [
    "<li>Repeat step ตรงนี้ไปสัก 2-3 รอบแล้วจะได้หน้าออกมา -> Face attribute ต่อ</li>"
   ]
  },
  {
   "cell_type": "markdown",
   "metadata": {},
   "source": [
    "<img src=\"img/22.jpg\">"
   ]
  },
  {
   "cell_type": "markdown",
   "metadata": {},
   "source": [
    "<img src=\"img/21.jpg\">"
   ]
  },
  {
   "cell_type": "markdown",
   "metadata": {},
   "source": [
    "<hr>"
   ]
  },
  {
   "cell_type": "markdown",
   "metadata": {},
   "source": [
    "<a href=\"https://www.youtube.com/watch?v=89XtIbijRDc&list=PLoEMreTa9CNnnBrqy4cJSZ3NX3rhvcJxi&index=6\"><h3>Face Detection and Alignment | Lecture 40 (Part 3) | Applied Deep Learning (Supplementary)</h3></a>"
   ]
  },
  {
   "cell_type": "markdown",
   "metadata": {},
   "source": [
    "<img src=\"img/24.jpg\">"
   ]
  },
  {
   "cell_type": "markdown",
   "metadata": {},
   "source": [
    "<img src=\"img/25.jpg\">"
   ]
  },
  {
   "cell_type": "markdown",
   "metadata": {},
   "source": [
    "<li>ตรงนี้มันจะเป็น step by step ของมันไปเรื่อยๆ ทำไปตามลำดับ P-Net -> R-Net -> O-Net จากที่ได้กล่องเต็มไปหมดสุดท้ายจะเหลือแค่ box 1 box เท่านั้น</li>"
   ]
  },
  {
   "cell_type": "markdown",
   "metadata": {},
   "source": [
    "<hr>"
   ]
  },
  {
   "cell_type": "markdown",
   "metadata": {},
   "source": [
    "<a href=\"https://www.youtube.com/watch?v=sRi25zy2McU&list=PLoEMreTa9CNnnBrqy4cJSZ3NX3rhvcJxi&index=7\"><h3>The Center Loss | Lecture 40 (Part 4) | Applied Deep Learning (Supplementary)</h3></a>"
   ]
  },
  {
   "cell_type": "markdown",
   "metadata": {},
   "source": [
    "<img src=\"img/28.png\">"
   ]
  },
  {
   "cell_type": "markdown",
   "metadata": {},
   "source": [
    "<li>อันนี้มันมี 2 วิธีที่จะสามารถทำ Process Face</li>\n",
    "<li>สำหรับวิธีที่ 2 วิธีดูค่าที่เหมาะสมว่า ค่า lambda เท่าไหร่เหมาะสมก็ดูเอาจาก graph</li>"
   ]
  },
  {
   "cell_type": "markdown",
   "metadata": {},
   "source": [
    "<img src=\"img/29.png\">"
   ]
  },
  {
   "cell_type": "markdown",
   "metadata": {},
   "source": [
    "https://www.cs.toronto.edu/~ranzato/publications/taigman_cvpr14.pdf"
   ]
  },
  {
   "cell_type": "markdown",
   "metadata": {},
   "source": [
    "<img src=\"img/31.jpg\">"
   ]
  },
  {
   "cell_type": "markdown",
   "metadata": {},
   "source": [
    "<li>Euclidean distance</li>\n",
    "<li>2 Images</li>"
   ]
  },
  {
   "cell_type": "markdown",
   "metadata": {},
   "source": [
    "<hr>"
   ]
  },
  {
   "cell_type": "markdown",
   "metadata": {},
   "source": []
  },
  {
   "cell_type": "markdown",
   "metadata": {},
   "source": []
  }
 ],
 "metadata": {
  "language_info": {
   "name": "python"
  }
 },
 "nbformat": 4,
 "nbformat_minor": 2
}
